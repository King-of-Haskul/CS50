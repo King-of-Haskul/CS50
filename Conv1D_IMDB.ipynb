{
  "nbformat": 4,
  "nbformat_minor": 0,
  "metadata": {
    "colab": {
      "name": "Conv1D_IMDB.ipynb",
      "provenance": [],
      "authorship_tag": "ABX9TyNITBG7lk+5OTRhMioZLKmV",
      "include_colab_link": true
    },
    "kernelspec": {
      "name": "python3",
      "display_name": "Python 3"
    },
    "language_info": {
      "name": "python"
    }
  },
  "cells": [
    {
      "cell_type": "markdown",
      "metadata": {
        "id": "view-in-github",
        "colab_type": "text"
      },
      "source": [
        "<a href=\"https://colab.research.google.com/github/King-of-Haskul/Harvard-CS50x/blob/master/Conv1D_IMDB.ipynb\" target=\"_parent\"><img src=\"https://colab.research.google.com/assets/colab-badge.svg\" alt=\"Open In Colab\"/></a>"
      ]
    },
    {
      "cell_type": "markdown",
      "metadata": {
        "id": "eTxwiR0hqINn"
      },
      "source": [
        "Using Conv1D layer on IMDB dataset for sentiment analysis"
      ]
    },
    {
      "cell_type": "code",
      "metadata": {
        "colab": {
          "base_uri": "https://localhost:8080/"
        },
        "id": "0dxmnjSlpW7L",
        "outputId": "9f263232-c60e-4c16-f8b7-6491e0a51709"
      },
      "source": [
        "#Preparing the IMDB data\n",
        "from tensorflow.keras.datasets import imdb\n",
        "from tensorflow.keras.preprocessing import sequence\n",
        "\n",
        "max_features= 10000\n",
        "maxlen = 500\n",
        "\n",
        "(x_train, y_train), (x_test, y_test) = imdb.load_data(num_words=max_features)\n",
        "\n",
        "x_train = sequence.pad_sequences(x_train, maxlen=maxlen)\n",
        "x_test = sequence.pad_sequences(x_test, maxlen=maxlen)"
      ],
      "execution_count": 1,
      "outputs": [
        {
          "output_type": "stream",
          "text": [
            "Downloading data from https://storage.googleapis.com/tensorflow/tf-keras-datasets/imdb.npz\n",
            "17465344/17464789 [==============================] - 0s 0us/step\n"
          ],
          "name": "stdout"
        },
        {
          "output_type": "stream",
          "text": [
            "<string>:6: VisibleDeprecationWarning: Creating an ndarray from ragged nested sequences (which is a list-or-tuple of lists-or-tuples-or ndarrays with different lengths or shapes) is deprecated. If you meant to do this, you must specify 'dtype=object' when creating the ndarray\n",
            "/usr/local/lib/python3.7/dist-packages/tensorflow/python/keras/datasets/imdb.py:155: VisibleDeprecationWarning: Creating an ndarray from ragged nested sequences (which is a list-or-tuple of lists-or-tuples-or ndarrays with different lengths or shapes) is deprecated. If you meant to do this, you must specify 'dtype=object' when creating the ndarray\n",
            "  x_train, y_train = np.array(xs[:idx]), np.array(labels[:idx])\n",
            "/usr/local/lib/python3.7/dist-packages/tensorflow/python/keras/datasets/imdb.py:156: VisibleDeprecationWarning: Creating an ndarray from ragged nested sequences (which is a list-or-tuple of lists-or-tuples-or ndarrays with different lengths or shapes) is deprecated. If you meant to do this, you must specify 'dtype=object' when creating the ndarray\n",
            "  x_test, y_test = np.array(xs[idx:]), np.array(labels[idx:])\n"
          ],
          "name": "stderr"
        }
      ]
    },
    {
      "cell_type": "code",
      "metadata": {
        "colab": {
          "base_uri": "https://localhost:8080/"
        },
        "id": "mx8NfUorqpUB",
        "outputId": "667ab461-9dc3-4854-a410-5649389e1877"
      },
      "source": [
        "#Training and evaluating a simple 1D convnet on the IMDB data\n",
        "from tensorflow.keras.models import Sequential\n",
        "from tensorflow.keras import layers\n",
        "from tensorflow.keras.optimizers import RMSprop\n",
        "\n",
        "model = Sequential()\n",
        "model.add(layers.Embedding(max_features, 128, input_length=maxlen))\n",
        "model.add(layers.Conv1D(32, 7, activation='relu')) #convolution layer with 32 units and window of size 7\n",
        "model.add(layers.MaxPooling1D(5)) #Performs max pooling on convolutions with window of size 5\n",
        "model.add(layers.Conv1D(32, 7, activation='relu'))\n",
        "model.add(layers.GlobalMaxPooling1D()) #Performs max pooling and flattens the output\n",
        "model.add(layers.Dense(1)) \n",
        "\n",
        "model.summary()\n",
        "\n",
        "model.compile(optimizer=RMSprop(lr=1e-4), loss='binary_crossentropy', metrics=['accuracy'])\n",
        "history = model.fit(x_train, y_train, epochs=10, batch_size=128, validation_split=0.2)"
      ],
      "execution_count": 2,
      "outputs": [
        {
          "output_type": "stream",
          "text": [
            "Model: \"sequential\"\n",
            "_________________________________________________________________\n",
            "Layer (type)                 Output Shape              Param #   \n",
            "=================================================================\n",
            "embedding (Embedding)        (None, 500, 128)          1280000   \n",
            "_________________________________________________________________\n",
            "conv1d (Conv1D)              (None, 494, 32)           28704     \n",
            "_________________________________________________________________\n",
            "max_pooling1d (MaxPooling1D) (None, 98, 32)            0         \n",
            "_________________________________________________________________\n",
            "conv1d_1 (Conv1D)            (None, 92, 32)            7200      \n",
            "_________________________________________________________________\n",
            "global_max_pooling1d (Global (None, 32)                0         \n",
            "_________________________________________________________________\n",
            "dense (Dense)                (None, 1)                 33        \n",
            "=================================================================\n",
            "Total params: 1,315,937\n",
            "Trainable params: 1,315,937\n",
            "Non-trainable params: 0\n",
            "_________________________________________________________________\n"
          ],
          "name": "stdout"
        },
        {
          "output_type": "stream",
          "text": [
            "/usr/local/lib/python3.7/dist-packages/tensorflow/python/keras/optimizer_v2/optimizer_v2.py:375: UserWarning: The `lr` argument is deprecated, use `learning_rate` instead.\n",
            "  \"The `lr` argument is deprecated, use `learning_rate` instead.\")\n"
          ],
          "name": "stderr"
        },
        {
          "output_type": "stream",
          "text": [
            "Epoch 1/10\n",
            "157/157 [==============================] - 71s 447ms/step - loss: 0.9170 - accuracy: 0.5001 - val_loss: 0.6908 - val_accuracy: 0.5486\n",
            "Epoch 2/10\n",
            "157/157 [==============================] - 70s 444ms/step - loss: 0.6778 - accuracy: 0.6206 - val_loss: 0.6733 - val_accuracy: 0.6478\n",
            "Epoch 3/10\n",
            "157/157 [==============================] - 70s 444ms/step - loss: 0.6426 - accuracy: 0.7358 - val_loss: 0.6358 - val_accuracy: 0.6898\n",
            "Epoch 4/10\n",
            "157/157 [==============================] - 70s 445ms/step - loss: 0.5733 - accuracy: 0.7943 - val_loss: 0.5396 - val_accuracy: 0.7770\n",
            "Epoch 5/10\n",
            "157/157 [==============================] - 70s 444ms/step - loss: 0.4516 - accuracy: 0.8327 - val_loss: 0.4329 - val_accuracy: 0.8280\n",
            "Epoch 6/10\n",
            "157/157 [==============================] - 70s 444ms/step - loss: 0.3629 - accuracy: 0.8674 - val_loss: 0.3987 - val_accuracy: 0.8470\n",
            "Epoch 7/10\n",
            "157/157 [==============================] - 70s 443ms/step - loss: 0.3115 - accuracy: 0.8884 - val_loss: 0.3889 - val_accuracy: 0.8610\n",
            "Epoch 8/10\n",
            "157/157 [==============================] - 70s 444ms/step - loss: 0.2804 - accuracy: 0.9036 - val_loss: 0.3831 - val_accuracy: 0.8652\n",
            "Epoch 9/10\n",
            "157/157 [==============================] - 70s 445ms/step - loss: 0.2563 - accuracy: 0.9151 - val_loss: 0.4181 - val_accuracy: 0.8680\n",
            "Epoch 10/10\n",
            "157/157 [==============================] - 70s 444ms/step - loss: 0.2322 - accuracy: 0.9241 - val_loss: 0.4195 - val_accuracy: 0.8716\n"
          ],
          "name": "stdout"
        }
      ]
    },
    {
      "cell_type": "code",
      "metadata": {
        "id": "lNRYwHsbsqXu"
      },
      "source": [
        ""
      ],
      "execution_count": null,
      "outputs": []
    }
  ]
}